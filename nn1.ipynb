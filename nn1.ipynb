{
 "cells": [
  {
   "cell_type": "code",
   "execution_count": 1,
   "metadata": {},
   "outputs": [],
   "source": [
    "import numpy as np"
   ]
  },
  {
   "cell_type": "code",
   "execution_count": 2,
   "metadata": {},
   "outputs": [],
   "source": [
    "# create a class for Neuralwork\n",
    "class neuralNetwork():\n",
    "    \n",
    "    # initallizing parameters for network\n",
    "    def __init__(self, inputnodes, hiddennodes, outputnodes, learningrate):\n",
    "        self.inodes = inputnodes\n",
    "        self.hnodes = hiddennodes\n",
    "        self.onodes = outputnodes\n",
    "        self.lr = learningrate\n",
    "        \n",
    "        # initialisation of weight\n",
    "        self.w_ih = np.random.rand(self.hnodes, self.inodes) - 0.5\n",
    "        self.w_ho = np.random.rand(self.onodes, self.hnodes) - 0.5\n",
    "        \n",
    "    # define a sigmoid function\n",
    "    def activation_function(self, x):\n",
    "        return 1.0/(1.0+np.exp(-x))\n",
    "    \n",
    "    # train a neural network\n",
    "    def tarin(self, feature_list, target_list):\n",
    "        # convert into 2dmins array\n",
    "        inputs = np.array(feature_list, ndmin=2).T\n",
    "        targets = np.array(target_list, ndmin=2).T\n",
    "        # Calculation\n",
    "        hidden_inputs = np.dot(self.w_ih, inputs)\n",
    "        hidden_output = self.activation_function(hidden_inputs)\n",
    "        final_input = np.dot(self.w_ho, hidden_output)\n",
    "        final_output = self.activation_function(final_input)\n",
    "        \n",
    "        # Error \n",
    "        # final error\n",
    "        output_error = targets - final_output\n",
    "        # Calulation of hidden layer's error\n",
    "        hidden_error = np.dot(self.w_ho.T, output_error)\n",
    "        # update weight\n",
    "        delta_w_ho = self.lr * np.dot((output_error*final_output*(1-final_output)), np.transpose(self.hidden_output))\n",
    "        delta_w_ih = self.lr * np.dot((hidden_error*hidden_output*(1-hidden_output)), np.transpose(self.hidden_output))\n",
    "        self.w_in += delta_w_ih\n",
    "        self.w_ho += delta_w_ho\n",
    "       \n",
    "    # query our network\n",
    "    def query(self, input_list):\n",
    "        # convert into numpy 2 dimension array\n",
    "        inputs = np.array(input_list, ndmin=2).T      \n",
    "        # calculation for hidden layers\n",
    "        hidden_inputs = np.dot(self.w_ih, inputs)\n",
    "        # applying sigmoid function\n",
    "        hidden_outputs = self.activation_function(hidden_inputs)\n",
    "        # calculation for final layers\n",
    "        final_input = np.dot(self.w_ho, hidden_outputs)\n",
    "        # applying sigmoid function\n",
    "        final_outputs = self.activation_function(final_input)\n",
    "        # returing final output\n",
    "        return final_outputs\n",
    "    \n",
    "\n",
    "\n",
    "        "
   ]
  },
  {
   "cell_type": "code",
   "execution_count": 8,
   "metadata": {},
   "outputs": [],
   "source": [
    "# set parameters\n",
    "inputnodes = 3\n",
    "hiddennodes = 3\n",
    "outputnodes = 3\n",
    "learningrate = 0.5\n",
    "\n",
    "# create a instance of our class\n",
    "n = neuralNetwork(inputnodes, hiddennodes, outputnodes, learningrate)\n"
   ]
  },
  {
   "cell_type": "code",
   "execution_count": 4,
   "metadata": {},
   "outputs": [
    {
     "data": {
      "text/plain": [
       "array([[0.51452599],\n",
       "       [0.44685195],\n",
       "       [0.39226818]])"
      ]
     },
     "execution_count": 4,
     "metadata": {},
     "output_type": "execute_result"
    }
   ],
   "source": [
    "n.query([1.0, 0.5, -1.5])"
   ]
  },
  {
   "cell_type": "code",
   "execution_count": null,
   "metadata": {},
   "outputs": [],
   "source": []
  },
  {
   "cell_type": "code",
   "execution_count": 9,
   "metadata": {},
   "outputs": [],
   "source": [
    "a = [1,2,3]\n",
    "b = np.array(a, ndmin=2)"
   ]
  },
  {
   "cell_type": "code",
   "execution_count": null,
   "metadata": {},
   "outputs": [],
   "source": []
  }
 ],
 "metadata": {
  "kernelspec": {
   "display_name": "Python 3",
   "language": "python",
   "name": "python3"
  },
  "language_info": {
   "codemirror_mode": {
    "name": "ipython",
    "version": 3
   },
   "file_extension": ".py",
   "mimetype": "text/x-python",
   "name": "python",
   "nbconvert_exporter": "python",
   "pygments_lexer": "ipython3",
   "version": "3.7.4"
  }
 },
 "nbformat": 4,
 "nbformat_minor": 2
}
