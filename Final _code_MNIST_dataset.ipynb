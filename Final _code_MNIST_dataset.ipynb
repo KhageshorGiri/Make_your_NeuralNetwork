{
 "cells": [
  {
   "cell_type": "code",
   "execution_count": 1,
   "metadata": {},
   "outputs": [],
   "source": [
    "# importing libarary\n",
    "import numpy as np\n",
    "import pandas as pd\n",
    "import matplotlib.pyplot as plt\n",
    "%matplotlib inline"
   ]
  },
  {
   "cell_type": "code",
   "execution_count": 2,
   "metadata": {},
   "outputs": [],
   "source": [
    "# making a Neural netwrk for Mnist dataset\n",
    "class neuralNetwork():\n",
    "    # initalization of parameter\n",
    "    def __init__(self, inpotenodes, hiddennodes, outputnodes, learningrate):\n",
    "        self.inodes = inputnodes\n",
    "        self.hnodes = hiddennodes\n",
    "        self.onodes = outputnodes\n",
    "        self.lr = learningrate\n",
    "        \n",
    "        # initailzation of wights for hidden and ouput layers\n",
    "        self.w_ih = np.random.normal(0.0, pow(self.hnodes, -0.5),(self.hnodes, self.inodes)) \n",
    "        self.w_ho = np.random.normal(0.0, pow(self.onodes, -0.5),(self.onodes, self.hnodes)) \n",
    "        \n",
    "    # define a sigmoid activaton function\n",
    "    def sigmoid(self, x):\n",
    "        return (1.0/(1.0+np.exp(-x)))\n",
    "    # derivative of sigmodi function\n",
    "    def sigmoid_prime(self, x):\n",
    "        return(sigmoid(x)*(1-sigmoid(x)))\n",
    "    \n",
    "    # define a method to train our model\n",
    "    def train(self, input_list, target_list):\n",
    "        # Convert iputs and targets into 2dmins array\n",
    "        inputs = np.array(input_list, ndmin=2).T\n",
    "        targets = np.array(target_list, ndmin=2).T\n",
    "        \n",
    "        # Calculation Part\n",
    "        # Calculation for hidden layer\n",
    "        hidden_inputs = np.dot(self.w_ih, inputs)\n",
    "        hidden_outputs = self.sigmoid(hidden_inputs)\n",
    "        # Calculation for final layr\n",
    "        final_inputs = np.dot(self.w_ho, hidden_outputs)\n",
    "        final_outputs = self.sigmoid(final_inputs)\n",
    "        \n",
    "        #Error Part\n",
    "        # Output layer error\n",
    "        output_error = targets - final_outputs\n",
    "        # hidden layer error\n",
    "        hidden_error = np.dot(self.w_ho.T, output_error)\n",
    "        \n",
    "        # Updating\n",
    "        #calculating delta\n",
    "        dlta1 = self.lr * np.dot(output_error*final_outputs*(1.0-final_outputs), np.transpose(hidden_outputs))\n",
    "        dlta2 = self.lr * np.dot(hidden_error*hidden_outputs*(1.0-hidden_outputs), np.transpose(inputs))\n",
    "        # updatig weights\n",
    "        self.w_ho += dlta1\n",
    "        self.w_ih += dlta2  \n",
    "        \n",
    "    # query our neural network\n",
    "    def query(self, input_list):\n",
    "        # convert input list into 2dmin array\n",
    "        inputs = np.array(input_list, ndmin=2).T\n",
    "        # Calculation for hidden layer\n",
    "        hidden_inputs = np.dot(self.w_ih, inputs)\n",
    "        hidden_outputs = self.sigmoid(hidden_inputs)\n",
    "        # Calculation for final layr\n",
    "        final_inputs = np.dot(self.w_ho, hidden_outputs)\n",
    "        final_outputs = self.sigmoid(final_inputs)\n",
    "        # returning final output\n",
    "        return final_outputs"
   ]
  },
  {
   "cell_type": "code",
   "execution_count": 11,
   "metadata": {},
   "outputs": [],
   "source": [
    "# set our parameters\n",
    "epochs = 5\n",
    "inputnodes = 784\n",
    "hiddennodes = 200\n",
    "outputnodes = 10\n",
    "leariningrate = 0.1\n",
    "\n",
    "# create a instance of our neuralNetwork class\n",
    "n = neuralNetwork(inputnodes, hiddennodes, outputnodes, leariningrate)"
   ]
  },
  {
   "cell_type": "code",
   "execution_count": 4,
   "metadata": {},
   "outputs": [],
   "source": [
    "#training_data\n",
    "training_data_file = open(\"mnist_dataset/mnist_train.csv\", 'r')\n",
    "training_data = training_data_file.readlines()\n",
    "training_data_file.close()\n"
   ]
  },
  {
   "cell_type": "code",
   "execution_count": 12,
   "metadata": {},
   "outputs": [],
   "source": [
    "# go through all the training data\n",
    "for i in range(epochs):\n",
    "    for record in training_data:\n",
    "        # split the data by ,\n",
    "        all_values = record.split(',')\n",
    "        # Scale and shift the input\n",
    "        # normalizting input \n",
    "        inputs = (np.asfarray(all_values[1:])/255.0*0.99) + 0.01\n",
    "        # create the target output values (all 0.01, except the desired label which is 0.99)\n",
    "        targets = np.zeros(outputnodes) + 0.01\n",
    "        # all_values[0] is the target label for this record\n",
    "        targets[int(all_values[0])] = 0.99\n",
    "        n.train(inputs, targets)\n",
    "        "
   ]
  },
  {
   "cell_type": "code",
   "execution_count": 13,
   "metadata": {},
   "outputs": [],
   "source": [
    "# load the mnist test data CSV file into a list\n",
    "test_data_file = open(\"mnist_dataset/mnist_test.csv\", 'r')\n",
    "test_data = test_data_file.readlines()\n",
    "test_data_file.close()\n"
   ]
  },
  {
   "cell_type": "code",
   "execution_count": 14,
   "metadata": {},
   "outputs": [],
   "source": [
    "# test our neural network\n",
    "scorecard = []\n",
    "\n",
    "# go througn all the record from test dataset\n",
    "for record in test_data:\n",
    "    # Split the record by ','\n",
    "    all_values = record.split(',')\n",
    "    # store our labes in one variable\n",
    "    correct_label = int(all_values[0])\n",
    "    # Normlize and shift the input\n",
    "    test_inputs = (np.asfarray(all_values[1:]) / 255.0 * 0.99) + 0.01\n",
    "    # query the network\n",
    "    test_outputs = n.query(test_inputs)\n",
    "    # the index of the highest value corresponds to the label\n",
    "    label = np.argmax(test_outputs)\n",
    "    # append correct or incorrect to list\n",
    "    if (label == correct_label):\n",
    "        # network's answer matches correct answer, add 1 to scorecard\n",
    "        scorecard.append(1)\n",
    "    else:\n",
    "        # network's answer doesn't match correct answer, add 0 to scorecard\n",
    "        scorecard.append(0)\n",
    "    "
   ]
  },
  {
   "cell_type": "code",
   "execution_count": 16,
   "metadata": {},
   "outputs": [
    {
     "name": "stdout",
     "output_type": "stream",
     "text": [
      "performance =  0.9738\n"
     ]
    }
   ],
   "source": [
    "# calculate the performance score, the fraction of correct answers\n",
    "scorecard_array = np.asarray(scorecard)\n",
    "print (\"performance = \", scorecard_array.sum() / scorecard_array.size)"
   ]
  },
  {
   "cell_type": "code",
   "execution_count": null,
   "metadata": {},
   "outputs": [],
   "source": []
  }
 ],
 "metadata": {
  "kernelspec": {
   "display_name": "Python 3",
   "language": "python",
   "name": "python3"
  },
  "language_info": {
   "codemirror_mode": {
    "name": "ipython",
    "version": 3
   },
   "file_extension": ".py",
   "mimetype": "text/x-python",
   "name": "python",
   "nbconvert_exporter": "python",
   "pygments_lexer": "ipython3",
   "version": "3.7.4"
  }
 },
 "nbformat": 4,
 "nbformat_minor": 2
}
