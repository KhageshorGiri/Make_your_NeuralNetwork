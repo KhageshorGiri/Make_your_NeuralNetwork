{
 "cells": [
  {
   "cell_type": "code",
   "execution_count": 1,
   "metadata": {},
   "outputs": [],
   "source": [
    "# Importin required library\n",
    "import numpy as np\n",
    "import matplotlib.pyplot as plt\n",
    "%matplotlib inline"
   ]
  },
  {
   "cell_type": "code",
   "execution_count": 8,
   "metadata": {},
   "outputs": [],
   "source": [
    "# making a Neural netwrk for Mnist dataset\n",
    "class neuralNetwork():\n",
    "    # initalization of parameter\n",
    "    def __init__(self, inpotenodes, hiddennodes, outputnodes, learningrate):\n",
    "        self.inodes = inputnodes\n",
    "        self.hnodes = hiddennodes\n",
    "        self.onodes = outputnodes\n",
    "        self.lr = learningrate\n",
    "        \n",
    "        # initailzation of wights for hidden and ouput layers\n",
    "        self.w_ih = np.random.normal(0.0, pow(self.hnodes, -0.5),(self.hnodes, self.inodes)) \n",
    "        self.w_ho = np.random.normal(0.0, pow(self.onodes, -0.5),(self.onodes, self.hnodes)) \n",
    "        \n",
    "    # define a sigmoid activaton function\n",
    "    def activation_function(self, x):\n",
    "        return (1.0/(1.0+np.exp(-x)))\n",
    "    # derivative of sigmodi function\n",
    "    def sigmoid_prime(self, x):\n",
    "        return(activation_function(x)*(1-activation_function(x)))\n",
    "    \n",
    "    # define a method to train our model\n",
    "    def train(self, input_list, target_list):\n",
    "        # Convert iputs and targets into 2dmins array\n",
    "        inputs = np.array(input_list, ndmin=2).T\n",
    "        targets = np.array(target_list, ndmin=2).T\n",
    "        \n",
    "        # Calculation Part\n",
    "        # Calculation for hidden layer\n",
    "        hidden_inputs = np.dot(self.w_ih, inputs)\n",
    "        hidden_outputs = self.activation_function(hidden_inputs)\n",
    "        # Calculation for final layr\n",
    "        final_inputs = np.dot(self.w_ho, hidden_outputs)\n",
    "        final_outputs = self.activation_function(final_inputs)\n",
    "        \n",
    "        #Error Part\n",
    "        # Output layer error\n",
    "        output_error = targets - final_outputs\n",
    "        # hidden layer error\n",
    "        hidden_error = np.dot(self.w_ho.T, output_error)\n",
    "        \n",
    "        # Updating\n",
    "        #calculating delta\n",
    "        dlta1 = self.lr * np.dot(output_error*final_outputs*(1.0-final_outputs), np.transpose(hidden_outputs))\n",
    "        dlta2 = self.lr * np.dot(hidden_error*hidden_outputs*(1.0-hidden_outputs), np.transpose(inputs))\n",
    "        \n",
    "        \n",
    "    # query our neural network\n",
    "    def query(self, input_list):\n",
    "        # convert input list into 2dmin array\n",
    "        inputs = np.array(input_list, ndmin=2).T\n",
    "        # Calculation for hidden layer\n",
    "        hidden_inputs = np.dot(self.w_ih, inputs)\n",
    "        hidden_outputs = self.activation_function(hidden_inputs)\n",
    "        # Calculation for final layr\n",
    "        final_inputs = np.dot(self.w_ho, hidden_outputs)\n",
    "        final_outputs = self.activation_function(final_inputs)\n",
    "        # returning final output\n",
    "        return final_outputs"
   ]
  },
  {
   "cell_type": "code",
   "execution_count": 3,
   "metadata": {},
   "outputs": [],
   "source": [
    "# set our parameters\n",
    "inputnodes = 3\n",
    "hiddennodes = 3\n",
    "outputnodes = 3\n",
    "leariningrate = 0.5\n",
    "\n",
    "# create a instance of our neuralNetwork class\n",
    "n = neuralNetwork(inputnodes, hiddennodes, outputnodes, leariningrate)"
   ]
  },
  {
   "cell_type": "code",
   "execution_count": null,
   "metadata": {},
   "outputs": [],
   "source": []
  }
 ],
 "metadata": {
  "kernelspec": {
   "display_name": "Python 3",
   "language": "python",
   "name": "python3"
  },
  "language_info": {
   "codemirror_mode": {
    "name": "ipython",
    "version": 3
   },
   "file_extension": ".py",
   "mimetype": "text/x-python",
   "name": "python",
   "nbconvert_exporter": "python",
   "pygments_lexer": "ipython3",
   "version": "3.7.4"
  }
 },
 "nbformat": 4,
 "nbformat_minor": 2
}
